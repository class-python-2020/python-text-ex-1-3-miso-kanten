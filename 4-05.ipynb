{
 "metadata": {
  "language_info": {
   "codemirror_mode": {
    "name": "ipython",
    "version": 3
   },
   "file_extension": ".py",
   "mimetype": "text/x-python",
   "name": "python",
   "nbconvert_exporter": "python",
   "pygments_lexer": "ipython3",
   "version": "3.8.2-final"
  },
  "orig_nbformat": 2,
  "kernelspec": {
   "name": "python38232bitaa2ffbbca7544d2bb37fd1fa90cf292f",
   "display_name": "Python 3.8.2 32-bit"
  }
 },
 "nbformat": 4,
 "nbformat_minor": 2,
 "cells": [
  {
   "cell_type": "code",
   "execution_count": 1,
   "metadata": {},
   "outputs": [
    {
     "output_type": "execute_result",
     "data": {
      "text/plain": "10"
     },
     "metadata": {},
     "execution_count": 1
    }
   ],
   "source": [
    "sum([1,2,3,4])"
   ]
  },
  {
   "cell_type": "code",
   "execution_count": 2,
   "metadata": {},
   "outputs": [
    {
     "output_type": "execute_result",
     "data": {
      "text/plain": "45"
     },
     "metadata": {},
     "execution_count": 2
    }
   ],
   "source": [
    "sum(range(10))"
   ]
  },
  {
   "cell_type": "code",
   "execution_count": 3,
   "metadata": {},
   "outputs": [
    {
     "output_type": "execute_result",
     "data": {
      "text/plain": "10"
     },
     "metadata": {},
     "execution_count": 3
    }
   ],
   "source": [
    "add_all=sum\n",
    "add_all([1,2,3,4])"
   ]
  },
  {
   "cell_type": "code",
   "execution_count": 4,
   "metadata": {},
   "outputs": [
    {
     "output_type": "execute_result",
     "data": {
      "text/plain": "45"
     },
     "metadata": {},
     "execution_count": 4
    }
   ],
   "source": [
    "add_all(range(10))"
   ]
  },
  {
   "cell_type": "code",
   "execution_count": 5,
   "metadata": {},
   "outputs": [],
   "source": [
    "def say_hello():\n",
    "    print('こんにちは')"
   ]
  },
  {
   "cell_type": "code",
   "execution_count": 6,
   "metadata": {
    "tags": []
   },
   "outputs": [
    {
     "output_type": "stream",
     "name": "stdout",
     "text": "こんにちは\n"
    }
   ],
   "source": [
    "say_hello()"
   ]
  },
  {
   "cell_type": "code",
   "execution_count": 7,
   "metadata": {},
   "outputs": [],
   "source": [
    "def run_any_func(func):\n",
    "    for i in range(2):\n",
    "        func()"
   ]
  },
  {
   "cell_type": "code",
   "execution_count": 8,
   "metadata": {
    "tags": []
   },
   "outputs": [
    {
     "output_type": "stream",
     "name": "stdout",
     "text": "こんにちは\nこんにちは\n"
    }
   ],
   "source": [
    "run_any_func(say_hello)"
   ]
  },
  {
   "cell_type": "code",
   "execution_count": 9,
   "metadata": {},
   "outputs": [],
   "source": [
    "def multi_func(number):\n",
    "    if number==0:\n",
    "        print('min',end=\" \")\n",
    "        return min\n",
    "    if number==1:\n",
    "        print('max',end=\" \")\n",
    "        return max\n",
    "    else:\n",
    "        print('sum',end=\" \")\n",
    "        return sum"
   ]
  },
  {
   "cell_type": "code",
   "execution_count": 10,
   "metadata": {
    "tags": []
   },
   "outputs": [
    {
     "output_type": "stream",
     "name": "stdout",
     "text": "min 1\nmax 4\nsum 10\n"
    }
   ],
   "source": [
    "num_list=[1,2,3,4]\n",
    "for i in [0,1,2]:\n",
    "    func=multi_func(i)\n",
    "    print(func(num_list))"
   ]
  },
  {
   "cell_type": "code",
   "execution_count": 11,
   "metadata": {
    "tags": []
   },
   "outputs": [
    {
     "output_type": "stream",
     "name": "stdout",
     "text": "min 1\nmax 4\nsum 10\n"
    }
   ],
   "source": [
    "num_list=[1,2,3,4]\n",
    "for i in [0,1,2]:\n",
    "    print(multi_func(i)(num_list))"
   ]
  },
  {
   "cell_type": "code",
   "execution_count": 20,
   "metadata": {},
   "outputs": [],
   "source": [
    "functions=[sum,min,max]"
   ]
  },
  {
   "cell_type": "code",
   "execution_count": 21,
   "metadata": {},
   "outputs": [
    {
     "output_type": "execute_result",
     "data": {
      "text/plain": "[1, 2, 3, 4, 5, 6, 7, 8, 9, 10]"
     },
     "metadata": {},
     "execution_count": 21
    }
   ],
   "source": [
    "numbers=range(1,11)\n",
    "list(numbers)"
   ]
  },
  {
   "cell_type": "code",
   "execution_count": 22,
   "metadata": {
    "tags": []
   },
   "outputs": [
    {
     "output_type": "stream",
     "name": "stdout",
     "text": "Function: sum, Result: 55\nFunction: min, Result: 1\nFunction: max, Result: 10\n"
    }
   ],
   "source": [
    "functions=[sum,min,max]\n",
    "number_list=range(1,11)\n",
    "for func in functions:\n",
    "    print(\"Function: {}, Result: {}\".format(func.__name__,func(number_list)))"
   ]
  },
  {
   "cell_type": "code",
   "execution_count": 24,
   "metadata": {},
   "outputs": [],
   "source": [
    "s_coordi_list=[\"1.0,2.2,3.5\",\"2.1,3.2,5.5\",\"1.2,1.3,2.2\",\"2.1,3.1,4.5\"]"
   ]
  },
  {
   "cell_type": "code",
   "execution_count": 27,
   "metadata": {},
   "outputs": [
    {
     "output_type": "error",
     "ename": "SyntaxError",
     "evalue": "invalid character in identifier (<ipython-input-27-10238e0cfe29>, line 3)",
     "traceback": [
      "\u001b[1;36m  File \u001b[1;32m\"<ipython-input-27-10238e0cfe29>\"\u001b[1;36m, line \u001b[1;32m3\u001b[0m\n\u001b[1;33m    def　str_to_float_coordi(s_coordi):\u001b[0m\n\u001b[1;37m       　                  ^\u001b[0m\n\u001b[1;31mSyntaxError\u001b[0m\u001b[1;31m:\u001b[0m invalid character in identifier\n"
     ]
    }
   ],
   "source": [
    "s_coordi_list=[\"1.0,2.2,3.5\",\"2.1,3.2,5.5\",\"1.2,1.3,2.2\",\"2.1,3.1,4.5\"]\n",
    "\n",
    "def　str_to_float_coordi(s_coordi):\n",
    "    '''与えられた文字列をカンマで分割しfloat型に変換して数値リストを返す'''\n",
    "    p=s_coordi.split(\".\")\n",
    "    return list(map(float, p))\n",
    "\n",
    "def str_to_float_coorid_iter(s_coordi_list):\n",
    "    '''与えられたリストの要素を str_to_float_coorid() 関数で処理して結果を差す反復可能体(iterable)を返す'''\n",
    "    return map(str_to_float_coorid,s_coordi_list)\n",
    "\n",
    "f_coordi_list=list(str_to_float_coorid_iter(s_coordi_list))\n",
    "\n",
    "print(f_coordi_list)"
   ]
  },
  {
   "cell_type": "code",
   "execution_count": 28,
   "metadata": {},
   "outputs": [
    {
     "output_type": "error",
     "ename": "SyntaxError",
     "evalue": "invalid character in identifier (<ipython-input-28-005406669025>, line 3)",
     "traceback": [
      "\u001b[1;36m  File \u001b[1;32m\"<ipython-input-28-005406669025>\"\u001b[1;36m, line \u001b[1;32m3\u001b[0m\n\u001b[1;33m    def　str_to_float_coordi(s_coordi):\u001b[0m\n\u001b[1;37m       　                  ^\u001b[0m\n\u001b[1;31mSyntaxError\u001b[0m\u001b[1;31m:\u001b[0m invalid character in identifier\n"
     ]
    }
   ],
   "source": [
    "s_coordi_list=[\"1.0,2.2,3.5\",\"2.1,3.2,5.5\",\"1.2,1.3,2.2\",\"2.1,3.1,4.5\"]\n",
    "\n",
    "def　str_to_float_coordi(s_coordi):\n",
    "    '''与えられた文字列をカンマで分割しfloat型に変換して数値リストを返す'''\n",
    "    p=s_coordi.split(\".\")\n",
    "    f_coordi=[]\n",
    "    for n in p:\n",
    "        f_coordi.append(float(n))\n",
    "    return f_coordi\n",
    "\n",
    "f_coordi_list=[]\n",
    "for s_coordi in s_coordi_list:\n",
    "    f_coordi_list.append(str_to_float_coorid(s_coordi))\n",
    "\n",
    "print(f_coordi_list)"
   ]
  },
  {
   "cell_type": "code",
   "execution_count": null,
   "metadata": {},
   "outputs": [],
   "source": []
  }
 ]
}