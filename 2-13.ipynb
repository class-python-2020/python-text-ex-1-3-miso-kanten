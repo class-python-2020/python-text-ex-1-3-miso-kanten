{
 "metadata": {
  "language_info": {
   "codemirror_mode": {
    "name": "ipython",
    "version": 3
   },
   "file_extension": ".py",
   "mimetype": "text/x-python",
   "name": "python",
   "nbconvert_exporter": "python",
   "pygments_lexer": "ipython3",
   "version": "3.8.2-final"
  },
  "orig_nbformat": 2,
  "kernelspec": {
   "name": "python38232bitaa2ffbbca7544d2bb37fd1fa90cf292f",
   "display_name": "Python 3.8.2 32-bit"
  }
 },
 "nbformat": 4,
 "nbformat_minor": 2,
 "cells": [
  {
   "cell_type": "code",
   "execution_count": 1,
   "metadata": {},
   "outputs": [],
   "source": [
    "import random"
   ]
  },
  {
   "cell_type": "code",
   "execution_count": 2,
   "metadata": {},
   "outputs": [],
   "source": [
    "from random import randint"
   ]
  },
  {
   "cell_type": "code",
   "execution_count": 3,
   "metadata": {
    "tags": []
   },
   "outputs": [
    {
     "output_type": "stream",
     "name": "stdout",
     "text": "2\n"
    }
   ],
   "source": [
    "from random import randint\n",
    "print(randint(0,10))"
   ]
  },
  {
   "cell_type": "code",
   "execution_count": 4,
   "metadata": {
    "tags": []
   },
   "outputs": [
    {
     "output_type": "stream",
     "name": "stdout",
     "text": "10\na\n"
    }
   ],
   "source": [
    "from random import randint, choice\n",
    "print(randint(0,10))\n",
    "print(choice(['a','b','c']))"
   ]
  },
  {
   "cell_type": "code",
   "execution_count": 5,
   "metadata": {
    "tags": []
   },
   "outputs": [
    {
     "output_type": "stream",
     "name": "stdout",
     "text": "4\n"
    }
   ],
   "source": [
    "from random import *\n",
    "print(randint(0,10))"
   ]
  },
  {
   "cell_type": "code",
   "execution_count": 7,
   "metadata": {
    "tags": []
   },
   "outputs": [
    {
     "output_type": "stream",
     "name": "stdout",
     "text": "2\n"
    }
   ],
   "source": [
    "import random as rd\n",
    "print(rd.randint(0,10))"
   ]
  },
  {
   "cell_type": "code",
   "execution_count": null,
   "metadata": {},
   "outputs": [],
   "source": [
    "import numpy as np\n",
    "import pandas as pd\n",
    "import natplotlib as plt"
   ]
  },
  {
   "cell_type": "code",
   "execution_count": 12,
   "metadata": {},
   "outputs": [
    {
     "output_type": "execute_result",
     "data": {
      "text/plain": "10"
     },
     "metadata": {},
     "execution_count": 12
    }
   ],
   "source": [
    "from random import randint as rint\n",
    "rint(1,10)"
   ]
  },
  {
   "cell_type": "code",
   "execution_count": 14,
   "metadata": {
    "tags": []
   },
   "outputs": [
    {
     "output_type": "stream",
     "name": "stdout",
     "text": "['c:\\\\Users\\\\yuuichirou\\\\Documents\\\\GitHub\\\\python-text-ex-1-3-miso-kanten', 'C:\\\\Users\\\\YUUICH~1\\\\AppData\\\\Local\\\\Temp\\\\1f125231-702e-44f9-9e5f-34491703e28a', 'c:\\\\Users\\\\yuuichirou\\\\.vscode\\\\extensions\\\\ms-python.python-2020.7.96456\\\\pythonFiles', 'c:\\\\Users\\\\yuuichirou\\\\.vscode\\\\extensions\\\\ms-python.python-2020.7.96456\\\\pythonFiles\\\\lib\\\\python', 'C:\\\\Users\\\\yuuichirou\\\\AppData\\\\Local\\\\Programs\\\\Python\\\\Python38-32\\\\python38.zip', 'C:\\\\Users\\\\yuuichirou\\\\AppData\\\\Local\\\\Programs\\\\Python\\\\Python38-32\\\\DLLs', 'C:\\\\Users\\\\yuuichirou\\\\AppData\\\\Local\\\\Programs\\\\Python\\\\Python38-32\\\\lib', 'C:\\\\Users\\\\yuuichirou\\\\AppData\\\\Local\\\\Programs\\\\Python\\\\Python38-32', '', 'C:\\\\Users\\\\yuuichirou\\\\AppData\\\\Roaming\\\\Python\\\\Python38\\\\site-packages', 'C:\\\\Users\\\\yuuichirou\\\\AppData\\\\Roaming\\\\Python\\\\Python38\\\\site-packages\\\\win32', 'C:\\\\Users\\\\yuuichirou\\\\AppData\\\\Roaming\\\\Python\\\\Python38\\\\site-packages\\\\win32\\\\lib', 'C:\\\\Users\\\\yuuichirou\\\\AppData\\\\Roaming\\\\Python\\\\Python38\\\\site-packages\\\\Pythonwin', 'C:\\\\Users\\\\yuuichirou\\\\AppData\\\\Local\\\\Programs\\\\Python\\\\Python38-32\\\\lib\\\\site-packages', 'C:\\\\Users\\\\yuuichirou\\\\AppData\\\\Roaming\\\\Python\\\\Python38\\\\site-packages\\\\IPython\\\\extensions', 'C:\\\\Users\\\\yuuichirou\\\\.ipython']\n"
    }
   ],
   "source": [
    "import sys\n",
    "print(sys.path)"
   ]
  },
  {
   "cell_type": "code",
   "execution_count": 15,
   "metadata": {},
   "outputs": [
    {
     "output_type": "execute_result",
     "data": {
      "text/plain": "8.0"
     },
     "metadata": {},
     "execution_count": 15
    }
   ],
   "source": [
    "from math import pow\n",
    "pow(2,3)"
   ]
  },
  {
   "cell_type": "code",
   "execution_count": 16,
   "metadata": {},
   "outputs": [
    {
     "output_type": "execute_result",
     "data": {
      "text/plain": "8.0"
     },
     "metadata": {},
     "execution_count": 16
    }
   ],
   "source": [
    "pow(2,3)"
   ]
  },
  {
   "cell_type": "code",
   "execution_count": 17,
   "metadata": {},
   "outputs": [
    {
     "output_type": "execute_result",
     "data": {
      "text/plain": "8.0"
     },
     "metadata": {},
     "execution_count": 17
    }
   ],
   "source": [
    "pow(2.0,3)"
   ]
  },
  {
   "cell_type": "code",
   "execution_count": 18,
   "metadata": {
    "tags": []
   },
   "outputs": [
    {
     "output_type": "stream",
     "name": "stdout",
     "text": "5\n9\n"
    }
   ],
   "source": [
    "import random\n",
    "from  random import randint\n",
    "\n",
    "print(random.randint(0,10))\n",
    "print(randint(0,10))"
   ]
  }
 ]
}