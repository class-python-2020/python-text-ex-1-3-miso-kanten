{
 "metadata": {
  "language_info": {
   "codemirror_mode": {
    "name": "ipython",
    "version": 3
   },
   "file_extension": ".py",
   "mimetype": "text/x-python",
   "name": "python",
   "nbconvert_exporter": "python",
   "pygments_lexer": "ipython3",
   "version": "3.8.2-final"
  },
  "orig_nbformat": 2,
  "kernelspec": {
   "name": "python38232bitaa2ffbbca7544d2bb37fd1fa90cf292f",
   "display_name": "Python 3.8.2 32-bit"
  }
 },
 "nbformat": 4,
 "nbformat_minor": 2,
 "cells": [
  {
   "cell_type": "code",
   "execution_count": 8,
   "metadata": {},
   "outputs": [
    {
     "output_type": "execute_result",
     "data": {
      "text/plain": "{1: 'Hokkaido', 2: 'Aomori', 3: 'Iwate'}"
     },
     "metadata": {},
     "execution_count": 8
    }
   ],
   "source": [
    "prefecture_of_japan = {1:'Hokkaido',2:'Aomori',3:'Iwate'}\n",
    "prefecture_of_japan"
   ]
  },
  {
   "cell_type": "code",
   "execution_count": 9,
   "metadata": {},
   "outputs": [
    {
     "output_type": "execute_result",
     "data": {
      "text/plain": "'Hokkaido'"
     },
     "metadata": {},
     "execution_count": 9
    }
   ],
   "source": [
    "prefecture_of_japan[1]"
   ]
  },
  {
   "cell_type": "code",
   "execution_count": 10,
   "metadata": {
    "tags": []
   },
   "outputs": [
    {
     "output_type": "stream",
     "name": "stdout",
     "text": "None\n"
    }
   ],
   "source": [
    "print(prefecture_of_japan.get(0))"
   ]
  },
  {
   "cell_type": "code",
   "execution_count": 11,
   "metadata": {
    "tags": []
   },
   "outputs": [
    {
     "output_type": "stream",
     "name": "stdout",
     "text": "Hokkaido\n"
    }
   ],
   "source": [
    "print(prefecture_of_japan . get(1))"
   ]
  },
  {
   "cell_type": "code",
   "execution_count": 12,
   "metadata": {
    "tags": []
   },
   "outputs": [
    {
     "output_type": "stream",
     "name": "stdout",
     "text": "Not Found\n"
    }
   ],
   "source": [
    "print(prefecture_of_japan.get(0,'Not Found'))"
   ]
  },
  {
   "cell_type": "code",
   "execution_count": 13,
   "metadata": {},
   "outputs": [
    {
     "output_type": "execute_result",
     "data": {
      "text/plain": "{1: 'Hokkaido', 2: 'Aomori', 3: 'Iwate', 4: 'Miyagi'}"
     },
     "metadata": {},
     "execution_count": 13
    }
   ],
   "source": [
    "prefecture_of_japan[4] ='Miyagi'\n",
    "prefecture_of_japan"
   ]
  },
  {
   "cell_type": "code",
   "execution_count": 15,
   "metadata": {},
   "outputs": [
    {
     "output_type": "execute_result",
     "data": {
      "text/plain": "True"
     },
     "metadata": {},
     "execution_count": 15
    }
   ],
   "source": [
    "1 in prefecture_of_japan"
   ]
  },
  {
   "cell_type": "code",
   "execution_count": 14,
   "metadata": {},
   "outputs": [
    {
     "output_type": "execute_result",
     "data": {
      "text/plain": "{1: 'Hokkaido', 2: 'Aomori', 3: 'Iwate'}"
     },
     "metadata": {},
     "execution_count": 14
    }
   ],
   "source": [
    "del prefecture_of_japan[4]\n",
    "prefecture_of_japan"
   ]
  },
  {
   "cell_type": "code",
   "execution_count": 16,
   "metadata": {},
   "outputs": [
    {
     "output_type": "execute_result",
     "data": {
      "text/plain": "'Iwate'"
     },
     "metadata": {},
     "execution_count": 16
    }
   ],
   "source": [
    "prefecture_of_japan . pop(3)"
   ]
  },
  {
   "cell_type": "code",
   "execution_count": 17,
   "metadata": {},
   "outputs": [
    {
     "output_type": "execute_result",
     "data": {
      "text/plain": "{1: 'Hokkaido', 2: 'Aomori'}"
     },
     "metadata": {},
     "execution_count": 17
    }
   ],
   "source": [
    "prefecture_of_japan"
   ]
  },
  {
   "cell_type": "code",
   "execution_count": 18,
   "metadata": {},
   "outputs": [
    {
     "output_type": "execute_result",
     "data": {
      "text/plain": "{}"
     },
     "metadata": {},
     "execution_count": 18
    }
   ],
   "source": [
    "prefecture_of_japan . clear()\n",
    "prefecture_of_japan"
   ]
  },
  {
   "cell_type": "code",
   "execution_count": 20,
   "metadata": {
    "tags": []
   },
   "outputs": [
    {
     "output_type": "stream",
     "name": "stdout",
     "text": "1\n2\n3\n"
    }
   ],
   "source": [
    "prefecture_of_japan = {1:'Hokkaido',2:'Aomori',3:'Iwate'}\n",
    "for x in prefecture_of_japan :\n",
    "    print(x)"
   ]
  },
  {
   "cell_type": "code",
   "execution_count": 21,
   "metadata": {
    "tags": []
   },
   "outputs": [
    {
     "output_type": "stream",
     "name": "stdout",
     "text": "1\n2\n3\n"
    }
   ],
   "source": [
    "for x in prefecture_of_japan . keys() :\n",
    "    print(x)"
   ]
  },
  {
   "cell_type": "code",
   "execution_count": 22,
   "metadata": {
    "tags": []
   },
   "outputs": [
    {
     "output_type": "stream",
     "name": "stdout",
     "text": "Hokkaido\nAomori\nIwate\n"
    }
   ],
   "source": [
    "for x in prefecture_of_japan . values() :\n",
    "    print(x)"
   ]
  },
  {
   "cell_type": "code",
   "execution_count": 24,
   "metadata": {
    "tags": []
   },
   "outputs": [
    {
     "output_type": "stream",
     "name": "stdout",
     "text": "1 Hokkaido\n2 Aomori\n3 Iwate\n"
    }
   ],
   "source": [
    "for key, x in prefecture_of_japan . items() :\n",
    "    print(key, x)"
   ]
  },
  {
   "cell_type": "code",
   "execution_count": 25,
   "metadata": {},
   "outputs": [
    {
     "output_type": "execute_result",
     "data": {
      "text/plain": "{1: 'Hokkaido', 2: 'Aomori', 3: 'Iwate'}"
     },
     "metadata": {},
     "execution_count": 25
    }
   ],
   "source": [
    "list1 = [1, 2, 3]\n",
    "list2 = ['Hokkaido','Aomori','Iwate']\n",
    "dict(zip(list1, list2))"
   ]
  },
  {
   "cell_type": "code",
   "execution_count": 29,
   "metadata": {},
   "outputs": [
    {
     "output_type": "error",
     "ename": "AttributeError",
     "evalue": "'dict' object has no attribute 'valurs'",
     "traceback": [
      "\u001b[1;31m---------------------------------------------------------------------------\u001b[0m",
      "\u001b[1;31mAttributeError\u001b[0m                            Traceback (most recent call last)",
      "\u001b[1;32m<ipython-input-29-eb9f8861a75e>\u001b[0m in \u001b[0;36m<module>\u001b[1;34m\u001b[0m\n\u001b[0;32m      1\u001b[0m \u001b[0myamanote_line\u001b[0m \u001b[1;33m=\u001b[0m \u001b[1;33m{\u001b[0m\u001b[1;36m0\u001b[0m\u001b[1;33m:\u001b[0m\u001b[1;34m'Tokyo'\u001b[0m\u001b[1;33m,\u001b[0m \u001b[1;36m1\u001b[0m\u001b[1;33m:\u001b[0m\u001b[1;34m'Yuurakuchou'\u001b[0m\u001b[1;33m,\u001b[0m\u001b[1;36m2\u001b[0m\u001b[1;33m:\u001b[0m\u001b[1;34m'shinbashi'\u001b[0m\u001b[1;33m}\u001b[0m\u001b[1;33m\u001b[0m\u001b[1;33m\u001b[0m\u001b[0m\n\u001b[1;32m----> 2\u001b[1;33m \u001b[1;32mfor\u001b[0m \u001b[0mv\u001b[0m \u001b[1;32min\u001b[0m \u001b[0myamanote_line\u001b[0m\u001b[1;33m.\u001b[0m\u001b[0mvalurs\u001b[0m\u001b[1;33m(\u001b[0m\u001b[1;33m)\u001b[0m\u001b[1;33m:\u001b[0m\u001b[1;33m\u001b[0m\u001b[1;33m\u001b[0m\u001b[0m\n\u001b[0m\u001b[0;32m      3\u001b[0m     \u001b[0mprint\u001b[0m\u001b[1;33m(\u001b[0m\u001b[0mv\u001b[0m\u001b[1;33m)\u001b[0m\u001b[1;33m\u001b[0m\u001b[1;33m\u001b[0m\u001b[0m\n",
      "\u001b[1;31mAttributeError\u001b[0m: 'dict' object has no attribute 'valurs'"
     ]
    }
   ],
   "source": [
    "yamanote_line = {0:'Tokyo', 1:'Yuurakuchou',2:'shinbashi'}\n",
    "for v in yamanote_line.valurs():\n",
    "    print(v)"
   ]
  },
  {
   "cell_type": "code",
   "execution_count": 31,
   "metadata": {},
   "outputs": [
    {
     "output_type": "execute_result",
     "data": {
      "text/plain": "[['0001', 'Male', 'Yamada', 'Tarou', 25, 'Tokyo'],\n ['0002', 'Male', 'Satou', 'Takeshi', 27, 'Kanagawa'],\n ['0003', 'Female', 'Tanaka', 'Yuko', 25, 'Saitama'],\n ['0004', 'Male', 'Suzuki', 'Ichirou', 35, 'Hokkaido']]"
     },
     "metadata": {},
     "execution_count": 31
    }
   ],
   "source": [
    "data = [\n",
    "['0001','Male','Yamada','Tarou',25,'Tokyo'],\n",
    "['0002','Male','Satou','Takeshi',27,'Kanagawa'],\n",
    "['0003','Female','Tanaka','Yuko',25,'Saitama'],\n",
    "['0004','Male','Suzuki','Ichirou',35,'Hokkaido']\n",
    "]\n",
    "data"
   ]
  },
  {
   "cell_type": "code",
   "execution_count": 39,
   "metadata": {},
   "outputs": [],
   "source": [
    "member_information = {}\n",
    "\n",
    "# 表データをレコード毎に格納する\n",
    "for record in data :\n",
    "    key = record[0]\n",
    "    info = record[1 :]\n",
    "    member_information[key] = info"
   ]
  },
  {
   "cell_type": "code",
   "execution_count": 41,
   "metadata": {
    "tags": []
   },
   "outputs": [
    {
     "output_type": "stream",
     "name": "stdout",
     "text": "number\tinformation\n0001 ['Male', 'Yamada', 'Tarou', 25, 'Tokyo']\n0002 ['Male', 'Satou', 'Takeshi', 27, 'Kanagawa']\n0003 ['Female', 'Tanaka', 'Yuko', 25, 'Saitama']\n0004 ['Male', 'Suzuki', 'Ichirou', 35, 'Hokkaido']\n"
    }
   ],
   "source": [
    "print('number','information',sep='\\t')\n",
    "for key,info in member_information.items():\n",
    "    print(key , info)"
   ]
  }
 ]
}