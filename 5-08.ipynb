{
 "metadata": {
  "language_info": {
   "codemirror_mode": {
    "name": "ipython",
    "version": 3
   },
   "file_extension": ".py",
   "mimetype": "text/x-python",
   "name": "python",
   "nbconvert_exporter": "python",
   "pygments_lexer": "ipython3",
   "version": "3.8.2-final"
  },
  "orig_nbformat": 2,
  "kernelspec": {
   "name": "python38232bitaa2ffbbca7544d2bb37fd1fa90cf292f",
   "display_name": "Python 3.8.2 32-bit"
  }
 },
 "nbformat": 4,
 "nbformat_minor": 2,
 "cells": [
  {
   "cell_type": "code",
   "execution_count": 1,
   "metadata": {},
   "outputs": [
    {
     "output_type": "execute_result",
     "data": {
      "text/plain": "{0: 0, 1: 1, 2: 4, 3: 9, 4: 16, 5: 25, 6: 36, 7: 49, 8: 64, 9: 81, 10: 100}"
     },
     "metadata": {},
     "execution_count": 1
    }
   ],
   "source": [
    "square_dict = {x : x*x for x in range(11)}\n",
    "square_dict"
   ]
  },
  {
   "cell_type": "code",
   "execution_count": 2,
   "metadata": {},
   "outputs": [
    {
     "output_type": "execute_result",
     "data": {
      "text/plain": "{(0, 0): 0, (0, 1): 0, (1, 0): 0, (1, 1): 1}"
     },
     "metadata": {},
     "execution_count": 2
    }
   ],
   "source": [
    "multiplicated_xy_dict = {(x, y):x*y for x in range(2) for y in range(2)}\n",
    "multiplicated_xy_dict"
   ]
  },
  {
   "cell_type": "code",
   "execution_count": 4,
   "metadata": {},
   "outputs": [
    {
     "output_type": "execute_result",
     "data": {
      "text/plain": "{('Hokkaido', 'Sapporo'): 100,\n ('Hokkaido', 'Hokkaido'): 200,\n ('Tokyo', 'Tokyo'): 300,\n ('Kanagawa', 'Kanagawa'): 400}"
     },
     "metadata": {},
     "execution_count": 4
    }
   ],
   "source": [
    "prefectures = ['Hokkaido','Hokkaido','Tokyo','Kanagawa']\n",
    "cities = ['Sapporo','Hokkaido','Tokyo','Kanagawa']\n",
    "populations = [100, 200, 300, 400]\n",
    "population_dict = {(state,city) : population for state, city, population in zip\n",
    "(prefectures, cities, populations)}\n",
    "population_dict"
   ]
  },
  {
   "cell_type": "code",
   "execution_count": 5,
   "metadata": {},
   "outputs": [
    {
     "output_type": "error",
     "ename": "SyntaxError",
     "evalue": "invalid syntax (<ipython-input-5-4ab863bae4d4>, line 3)",
     "traceback": [
      "\u001b[1;36m  File \u001b[1;32m\"<ipython-input-5-4ab863bae4d4>\"\u001b[1;36m, line \u001b[1;32m3\u001b[0m\n\u001b[1;33m    multiplicated_xy_setdict\u001b[0m\n\u001b[1;37m    ^\u001b[0m\n\u001b[1;31mSyntaxError\u001b[0m\u001b[1;31m:\u001b[0m invalid syntax\n"
     ]
    }
   ],
   "source": [
    "multiplicated_xy_setdict = {frozenset([x, y]): x*y for x in range(2) for y in \n",
    "range(2)\n",
    "multiplicated_xy_setdict"
   ]
  },
  {
   "cell_type": "code",
   "execution_count": 6,
   "metadata": {},
   "outputs": [
    {
     "output_type": "execute_result",
     "data": {
      "text/plain": "{0: {0: 0, 1: 0, 2: 0}, 1: {0: 0, 1: 1, 2: 2}, 2: {0: 0, 1: 2, 2: 4}}"
     },
     "metadata": {},
     "execution_count": 6
    }
   ],
   "source": [
    "{0: {0: 0, 1: 0, 2: 0}, 1: {0: 0, 1: 1, 2: 2,}, 2: {0: 0, 1: 2, 2: 4}}"
   ]
  },
  {
   "cell_type": "code",
   "execution_count": 12,
   "metadata": {},
   "outputs": [
    {
     "output_type": "execute_result",
     "data": {
      "text/plain": "{0: {0: 0, 1: 0, 2: 0}, 1: {0: 0, 1: 1, 2: 2}, 2: {0: 0, 1: 2, 2: 4}}"
     },
     "metadata": {},
     "execution_count": 12
    }
   ],
   "source": [
    "multiplicated_xy_dict = {}\n",
    "I = 3\n",
    "J = 3\n",
    "for i in range(I):\n",
    "    multiplicated_xy_dict[i] = {}\n",
    "    for j in range(J):\n",
    "        multiplicated_xy_dict[i][j] = i*j\n",
    "multiplicated_xy_dict"
   ]
  },
  {
   "cell_type": "code",
   "execution_count": 17,
   "metadata": {},
   "outputs": [
    {
     "output_type": "error",
     "ename": "SyntaxError",
     "evalue": "invalid syntax (<ipython-input-17-66d1bd9638bb>, line 4)",
     "traceback": [
      "\u001b[1;36m  File \u001b[1;32m\"<ipython-input-17-66d1bd9638bb>\"\u001b[1;36m, line \u001b[1;32m4\u001b[0m\n\u001b[1;33m    multiplicated_xy_dict\u001b[0m\n\u001b[1;37m    ^\u001b[0m\n\u001b[1;31mSyntaxError\u001b[0m\u001b[1;31m:\u001b[0m invalid syntax\n"
     ]
    }
   ],
   "source": [
    "I = 3\n",
    "J = 3\n",
    "multiplicated_xy_dict = {i:{j:(i*j) for j in range(J)for i in range(I)\n",
    "multiplicated_xy_dict  "
   ]
  },
  {
   "cell_type": "code",
   "execution_count": 18,
   "metadata": {},
   "outputs": [
    {
     "output_type": "execute_result",
     "data": {
      "text/plain": "4"
     },
     "metadata": {},
     "execution_count": 18
    }
   ],
   "source": [
    "multiplicated_xy_dict[2][2]"
   ]
  },
  {
   "cell_type": "code",
   "execution_count": 20,
   "metadata": {
    "tags": []
   },
   "outputs": [
    {
     "output_type": "stream",
     "name": "stdout",
     "text": "key1\tkey2\tval\n0\t0\t0\n0\t1\t0\n0\t2\t0\n1\t0\t0\n1\t1\t1\n1\t2\t2\n2\t0\t0\n2\t1\t2\n2\t2\t4\n"
    }
   ],
   "source": [
    "print('key1','key2','val',sep='\\t')\n",
    "for i, v1 in multiplicated_xy_dict . items() :\n",
    "    for j, v2 in v1 . items() :\n",
    "        print(i, j, v2, sep='\\t')"
   ]
  },
  {
   "cell_type": "code",
   "execution_count": 21,
   "metadata": {},
   "outputs": [
    {
     "output_type": "error",
     "ename": "SyntaxError",
     "evalue": "invalid syntax (<ipython-input-21-49f6640c278e>, line 3)",
     "traceback": [
      "\u001b[1;36m  File \u001b[1;32m\"<ipython-input-21-49f6640c278e>\"\u001b[1;36m, line \u001b[1;32m3\u001b[0m\n\u001b[1;33m    'Ireland': {'code': 353,'capital:'Dublin'},\u001b[0m\n\u001b[1;37m                                      ^\u001b[0m\n\u001b[1;31mSyntaxError\u001b[0m\u001b[1;31m:\u001b[0m invalid syntax\n"
     ]
    }
   ],
   "source": [
    "country_code = {\n",
    "'Iceland': {'code': 354,'capital': 'Reykjavik'},\n",
    "'Ireland': {'code': 353,'capital:'Dublin'},\n",
    "'Azerbaidjan': {'code': 994,'capital': 'Baku'}\n",
    "}\n",
    "\n",
    "def getstr_keyval(x) :\n",
    "    if isinstance(x, dict) :\n",
    "        return x\n",
    "    my_str =''\n",
    "    for key, val in x . items():\n",
    "        my_str += (''+ str(key) +''+ getstr_keyval(val))\n",
    "    return my_str\n",
    "\t\n",
    "for key1, val1 in country_code.items():\n",
    "    print(key1, getstr_keyval(val1))"
   ]
  },
  {
   "cell_type": "code",
   "execution_count": 23,
   "metadata": {},
   "outputs": [
    {
     "output_type": "execute_result",
     "data": {
      "text/plain": "[['01', '0001', 'Male', 'Yamada', 'Tarou', 25, 'Tokyo'],\n ['01', '0002', 'Male', 'Satou', 'Takashi', 27, 'Kanagawa'],\n ['01', '0003', 'Female', 'Tanaka', 'Yuko', 25, 'Sitama'],\n ['02', '0001', 'Male', 'Smith', 'Mike', 22, 'NewJersey'],\n ['02', '0002', 'Male', 'Turner', 'Tom', 27, 'Kansas'],\n ['02', '0003', 'Male', 'Jackson', 'David', 22, 'Florida']]"
     },
     "metadata": {},
     "execution_count": 23
    }
   ],
   "source": [
    "data = [\n",
    "['01','0001','Male' ,'Yamada','Tarou', 25,'Tokyo'],\n",
    "['01','0002','Male','Satou','Takashi', 27 ,'Kanagawa'],\n",
    "['01','0003','Female','Tanaka','Yuko', 25 ,'Sitama'],\n",
    "['02','0001','Male','Smith','Mike', 22 , 'NewJersey'],\n",
    "['02','0002','Male','Turner','Tom', 27 ,'Kansas'],\n",
    "['02', '0003','Male','Jackson','David' , 22,'Florida'],\n",
    "]\n",
    "data"
   ]
  },
  {
   "cell_type": "code",
   "execution_count": 24,
   "metadata": {},
   "outputs": [],
   "source": [
    "member_information = {}\n",
    "\n",
    "#　表データをレコード毎に格納する\n",
    "for record in data :\n",
    "    key = (record[0], record[1])\n",
    "    info = record[2:]\n",
    "    member_information[key] = info"
   ]
  },
  {
   "cell_type": "code",
   "execution_count": 29,
   "metadata": {
    "tags": []
   },
   "outputs": [
    {
     "output_type": "stream",
     "name": "stdout",
     "text": "number\tinformetion\n"
    },
    {
     "output_type": "error",
     "ename": "NameError",
     "evalue": "name 'membr_information' is not defined",
     "traceback": [
      "\u001b[1;31m---------------------------------------------------------------------------\u001b[0m",
      "\u001b[1;31mNameError\u001b[0m                                 Traceback (most recent call last)",
      "\u001b[1;32m<ipython-input-29-71de6f33f791>\u001b[0m in \u001b[0;36m<module>\u001b[1;34m\u001b[0m\n\u001b[0;32m      1\u001b[0m \u001b[1;31m#　結果を表示する\u001b[0m\u001b[1;33m\u001b[0m\u001b[1;33m\u001b[0m\u001b[1;33m\u001b[0m\u001b[0m\n\u001b[0;32m      2\u001b[0m \u001b[0mprint\u001b[0m\u001b[1;33m(\u001b[0m\u001b[1;34m'number'\u001b[0m\u001b[1;33m,\u001b[0m\u001b[1;34m'informetion'\u001b[0m\u001b[1;33m,\u001b[0m\u001b[0msep\u001b[0m\u001b[1;33m=\u001b[0m\u001b[1;34m'\\t'\u001b[0m\u001b[1;33m)\u001b[0m\u001b[1;33m\u001b[0m\u001b[1;33m\u001b[0m\u001b[0m\n\u001b[1;32m----> 3\u001b[1;33m \u001b[1;32mfor\u001b[0m \u001b[0mkey\u001b[0m\u001b[1;33m,\u001b[0m \u001b[0minfo\u001b[0m \u001b[1;32min\u001b[0m \u001b[0mmembr_information\u001b[0m\u001b[1;33m.\u001b[0m\u001b[0mitems\u001b[0m\u001b[1;33m(\u001b[0m\u001b[1;33m)\u001b[0m\u001b[1;33m:\u001b[0m\u001b[1;33m\u001b[0m\u001b[1;33m\u001b[0m\u001b[0m\n\u001b[0m\u001b[0;32m      4\u001b[0m     \u001b[0mprint\u001b[0m\u001b[1;33m(\u001b[0m\u001b[0mkey\u001b[0m\u001b[1;33m,\u001b[0m \u001b[0minfo\u001b[0m\u001b[1;33m)\u001b[0m\u001b[1;33m\u001b[0m\u001b[1;33m\u001b[0m\u001b[0m\n",
      "\u001b[1;31mNameError\u001b[0m: name 'membr_information' is not defined"
     ]
    }
   ],
   "source": [
    "#　結果を表示する\n",
    "print('number','informetion',sep='\\t')\n",
    "for key, info in membr_information.items():\n",
    "    print(key, info)"
   ]
  },
  {
   "cell_type": "code",
   "execution_count": null,
   "metadata": {},
   "outputs": [],
   "source": []
  }
 ]
}